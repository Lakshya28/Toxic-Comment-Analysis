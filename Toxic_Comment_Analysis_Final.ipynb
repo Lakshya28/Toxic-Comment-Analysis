{
  "nbformat": 4,
  "nbformat_minor": 0,
  "metadata": {
    "colab": {
      "name": "Logistic Toxic Comment Analysis.ipynb",
      "provenance": [],
      "collapsed_sections": []
    },
    "kernelspec": {
      "name": "python3",
      "display_name": "Python 3"
    }
  },
  "cells": [
    {
      "cell_type": "markdown",
      "metadata": {
        "id": "IrgD8F8EKC9x",
        "colab_type": "text"
      },
      "source": [
        "###Importing Library"
      ]
    },
    {
      "cell_type": "code",
      "metadata": {
        "id": "SqsVH4LqHHj9",
        "colab_type": "code",
        "outputId": "6fca8de9-878c-4647-9ba2-ba4637db5a48",
        "colab": {
          "base_uri": "https://localhost:8080/",
          "height": 128
        }
      },
      "source": [
        "import numpy as np\n",
        "import pandas as pd\n",
        "import tensorflow as tf\n",
        "import re\n",
        "import nltk\n",
        "nltk.download('stopwords')\n",
        "nltk.download('wordnet')\n",
        "from nltk.corpus import stopwords\n",
        "import seaborn as sns\n",
        "from nltk.stem import WordNetLemmatizer\n",
        "import matplotlib.pyplot as plt\n",
        "from sklearn.model_selection import train_test_split\n"
      ],
      "execution_count": 1,
      "outputs": [
        {
          "output_type": "display_data",
          "data": {
            "text/html": [
              "<p style=\"color: red;\">\n",
              "The default version of TensorFlow in Colab will soon switch to TensorFlow 2.x.<br>\n",
              "We recommend you <a href=\"https://www.tensorflow.org/guide/migrate\" target=\"_blank\">upgrade</a> now \n",
              "or ensure your notebook will continue to use TensorFlow 1.x via the <code>%tensorflow_version 1.x</code> magic:\n",
              "<a href=\"https://colab.research.google.com/notebooks/tensorflow_version.ipynb\" target=\"_blank\">more info</a>.</p>\n"
            ],
            "text/plain": [
              "<IPython.core.display.HTML object>"
            ]
          },
          "metadata": {
            "tags": []
          }
        },
        {
          "output_type": "stream",
          "text": [
            "[nltk_data] Downloading package stopwords to /root/nltk_data...\n",
            "[nltk_data]   Package stopwords is already up-to-date!\n",
            "[nltk_data] Downloading package wordnet to /root/nltk_data...\n",
            "[nltk_data]   Package wordnet is already up-to-date!\n"
          ],
          "name": "stdout"
        }
      ]
    },
    {
      "cell_type": "code",
      "metadata": {
        "id": "5RDSv6RyHK-D",
        "colab_type": "code",
        "outputId": "fe224932-f10c-4e34-8558-b5032c144c96",
        "colab": {
          "base_uri": "https://localhost:8080/",
          "height": 33
        }
      },
      "source": [
        "from google.colab import drive\n",
        "drive.mount('/content/drive')"
      ],
      "execution_count": 2,
      "outputs": [
        {
          "output_type": "stream",
          "text": [
            "Drive already mounted at /content/drive; to attempt to forcibly remount, call drive.mount(\"/content/drive\", force_remount=True).\n"
          ],
          "name": "stdout"
        }
      ]
    },
    {
      "cell_type": "markdown",
      "metadata": {
        "id": "WiptH9M_RTPp",
        "colab_type": "text"
      },
      "source": [
        "###Importing Dataset"
      ]
    },
    {
      "cell_type": "code",
      "metadata": {
        "id": "vrXD08LXHQVs",
        "colab_type": "code",
        "colab": {}
      },
      "source": [
        "train=pd.read_csv('/content/drive/My Drive/Toxic Comment Dataset/train.csv')\n",
        "test=pd.read_csv('/content/drive/My Drive/Toxic Comment Dataset/test.csv')\n",
        "sample_submission =pd.read_csv('/content/drive/My Drive/Toxic Comment Dataset/sample_submission.csv')"
      ],
      "execution_count": 0,
      "outputs": []
    },
    {
      "cell_type": "code",
      "metadata": {
        "id": "jXTqW8deHn3P",
        "colab_type": "code",
        "outputId": "495e524f-0d61-4b92-eb4e-239dbfe7a5d2",
        "colab": {
          "base_uri": "https://localhost:8080/",
          "height": 197
        }
      },
      "source": [
        "train.head()"
      ],
      "execution_count": 4,
      "outputs": [
        {
          "output_type": "execute_result",
          "data": {
            "text/html": [
              "<div>\n",
              "<style scoped>\n",
              "    .dataframe tbody tr th:only-of-type {\n",
              "        vertical-align: middle;\n",
              "    }\n",
              "\n",
              "    .dataframe tbody tr th {\n",
              "        vertical-align: top;\n",
              "    }\n",
              "\n",
              "    .dataframe thead th {\n",
              "        text-align: right;\n",
              "    }\n",
              "</style>\n",
              "<table border=\"1\" class=\"dataframe\">\n",
              "  <thead>\n",
              "    <tr style=\"text-align: right;\">\n",
              "      <th></th>\n",
              "      <th>id</th>\n",
              "      <th>comment_text</th>\n",
              "      <th>toxic</th>\n",
              "      <th>severe_toxic</th>\n",
              "      <th>obscene</th>\n",
              "      <th>threat</th>\n",
              "      <th>insult</th>\n",
              "      <th>identity_hate</th>\n",
              "    </tr>\n",
              "  </thead>\n",
              "  <tbody>\n",
              "    <tr>\n",
              "      <th>0</th>\n",
              "      <td>0000997932d777bf</td>\n",
              "      <td>Explanation\\nWhy the edits made under my usern...</td>\n",
              "      <td>0</td>\n",
              "      <td>0</td>\n",
              "      <td>0</td>\n",
              "      <td>0</td>\n",
              "      <td>0</td>\n",
              "      <td>0</td>\n",
              "    </tr>\n",
              "    <tr>\n",
              "      <th>1</th>\n",
              "      <td>000103f0d9cfb60f</td>\n",
              "      <td>D'aww! He matches this background colour I'm s...</td>\n",
              "      <td>0</td>\n",
              "      <td>0</td>\n",
              "      <td>0</td>\n",
              "      <td>0</td>\n",
              "      <td>0</td>\n",
              "      <td>0</td>\n",
              "    </tr>\n",
              "    <tr>\n",
              "      <th>2</th>\n",
              "      <td>000113f07ec002fd</td>\n",
              "      <td>Hey man, I'm really not trying to edit war. It...</td>\n",
              "      <td>0</td>\n",
              "      <td>0</td>\n",
              "      <td>0</td>\n",
              "      <td>0</td>\n",
              "      <td>0</td>\n",
              "      <td>0</td>\n",
              "    </tr>\n",
              "    <tr>\n",
              "      <th>3</th>\n",
              "      <td>0001b41b1c6bb37e</td>\n",
              "      <td>\"\\nMore\\nI can't make any real suggestions on ...</td>\n",
              "      <td>0</td>\n",
              "      <td>0</td>\n",
              "      <td>0</td>\n",
              "      <td>0</td>\n",
              "      <td>0</td>\n",
              "      <td>0</td>\n",
              "    </tr>\n",
              "    <tr>\n",
              "      <th>4</th>\n",
              "      <td>0001d958c54c6e35</td>\n",
              "      <td>You, sir, are my hero. Any chance you remember...</td>\n",
              "      <td>0</td>\n",
              "      <td>0</td>\n",
              "      <td>0</td>\n",
              "      <td>0</td>\n",
              "      <td>0</td>\n",
              "      <td>0</td>\n",
              "    </tr>\n",
              "  </tbody>\n",
              "</table>\n",
              "</div>"
            ],
            "text/plain": [
              "                 id  ... identity_hate\n",
              "0  0000997932d777bf  ...             0\n",
              "1  000103f0d9cfb60f  ...             0\n",
              "2  000113f07ec002fd  ...             0\n",
              "3  0001b41b1c6bb37e  ...             0\n",
              "4  0001d958c54c6e35  ...             0\n",
              "\n",
              "[5 rows x 8 columns]"
            ]
          },
          "metadata": {
            "tags": []
          },
          "execution_count": 4
        }
      ]
    },
    {
      "cell_type": "code",
      "metadata": {
        "id": "pMN1tP7NLMCq",
        "colab_type": "code",
        "colab": {}
      },
      "source": [
        "labels = ['toxic','severe_toxic','obscene','threat','insult','identity_hate']"
      ],
      "execution_count": 0,
      "outputs": []
    },
    {
      "cell_type": "markdown",
      "metadata": {
        "id": "yE09yC1sRa5t",
        "colab_type": "text"
      },
      "source": [
        "###Plot Labels in Bar Graph"
      ]
    },
    {
      "cell_type": "code",
      "metadata": {
        "id": "JS97WcImLNIy",
        "colab_type": "code",
        "outputId": "a77a7d68-bc04-4123-967d-81a7e974aee6",
        "colab": {
          "base_uri": "https://localhost:8080/",
          "height": 447
        }
      },
      "source": [
        "x=train.iloc[:,2:].sum()\n",
        "rowsum=train.iloc[:,2:].sum(axis=1)\n",
        "train['clean']=(rowsum==0)\n",
        "clean=train['clean'].sum()\n",
        "x=x.tolist()\n",
        "print('{:<20s}{:>1s}'.format('clean',str(clean)))\n",
        "for i in range (0,6):\n",
        "   print('{:<20s}{:>1s}'.format(labels[i],str(x[i])))\n",
        "\n",
        "#x.append(clean)\n",
        "plt.bar(labels,x,color=['red', 'green', 'blue', 'yellow', 'purple','orange'])\n",
        "plt.xlabel('Labels', fontsize=12)\n",
        "plt.ylabel('Count', fontsize=12)\n",
        "plt.xticks(labels, fontsize=10, rotation=30)\n",
        "plt.title('Unclean Comments')\n",
        "plt.show()\n",
        "#sns.barplot(labels,x,palette='muted')\n",
        "#plt.title(\"Unclean Comments\")\n",
        "plt.show()"
      ],
      "execution_count": 6,
      "outputs": [
        {
          "output_type": "stream",
          "text": [
            "clean               143346\n",
            "toxic               15294\n",
            "severe_toxic        1595\n",
            "obscene             8449\n",
            "threat              478\n",
            "insult              7877\n",
            "identity_hate       1405\n"
          ],
          "name": "stdout"
        },
        {
          "output_type": "display_data",
          "data": {
            "image/png": "[encoded data removed]",
            "text/plain": [
              "<Figure size 432x288 with 1 Axes>"
            ]
          },
          "metadata": {
            "tags": []
          }
        }
      ]
    },
    {
      "cell_type": "markdown",
      "metadata": {
        "id": "pA8VPA0gRi0N",
        "colab_type": "text"
      },
      "source": [
        "###Plot Correlation Heat Map"
      ]
    },
    {
      "cell_type": "code",
      "metadata": {
        "id": "JPKsx8u0sKm8",
        "colab_type": "code",
        "outputId": "48b9ebac-2296-401b-dd1b-f50db3b441e9",
        "colab": {
          "base_uri": "https://localhost:8080/",
          "height": 417
        }
      },
      "source": [
        "fig, ax = plt.subplots(figsize=(10, 6))\n",
        "fig.suptitle('Correlation Matrix')\n",
        "sns.heatmap(train[labels].corr(), annot=True, cmap=\"YlGnBu\", linewidths=.5, ax=ax);"
      ],
      "execution_count": 7,
      "outputs": [
        {
          "output_type": "display_data",
          "data": {
            "image/png": "[encoded data removed]",
            "text/plain": [
              "<Figure size 720x432 with 2 Axes>"
            ]
          },
          "metadata": {
            "tags": []
          }
        }
      ]
    },
    {
      "cell_type": "markdown",
      "metadata": {
        "id": "UG7SAhF3RupJ",
        "colab_type": "text"
      },
      "source": [
        "###Pre-Processing Text\n",
        "* Cleaning of text includes removing of number,punctuations and keeping only \n",
        "letters in text.\n",
        "* Lemmatization of each word basically process of finding the lemma of a word depending on their meaning.\n",
        "* Using Stopword Dictionary removes stopwords like and,the,be etc.  "
      ]
    },
    {
      "cell_type": "code",
      "metadata": {
        "id": "3a2xlA_3Hqkr",
        "colab_type": "code",
        "colab": {}
      },
      "source": [
        "def clean_text(text):\n",
        "    text=re.sub('[^a-zA-Z]', ' ',text)\n",
        "    text=text.lower()\n",
        "    text=text.split()\n",
        "    #lm = WordNetLemmatizer()\n",
        "    #text=[lm.lemmatize(word) for word in text if not word in set(stopwords.words('english'))]\n",
        "    text=[word for word in text if not word in set(stopwords.words('english'))]\n",
        "    text=' '.join(text)\n",
        "    return text"
      ],
      "execution_count": 0,
      "outputs": []
    },
    {
      "cell_type": "code",
      "metadata": {
        "id": "X_6G9PkRI0mC",
        "colab_type": "code",
        "colab": {}
      },
      "source": [
        "train['comment_text'] = train['comment_text'].map(lambda x : clean_text(x))\n",
        "test['comment_text'] = test['comment_text'].map(lambda x : clean_text(x))"
      ],
      "execution_count": 0,
      "outputs": []
    },
    {
      "cell_type": "code",
      "metadata": {
        "id": "dodG1CfGI_Zd",
        "colab_type": "code",
        "outputId": "aeb5656c-ca89-47f8-81b3-947f2d3ac00f",
        "colab": {
          "base_uri": "https://localhost:8080/",
          "height": 347
        }
      },
      "source": [
        "train[:10]"
      ],
      "execution_count": 10,
      "outputs": [
        {
          "output_type": "execute_result",
          "data": {
            "text/html": [
              "<div>\n",
              "<style scoped>\n",
              "    .dataframe tbody tr th:only-of-type {\n",
              "        vertical-align: middle;\n",
              "    }\n",
              "\n",
              "    .dataframe tbody tr th {\n",
              "        vertical-align: top;\n",
              "    }\n",
              "\n",
              "    .dataframe thead th {\n",
              "        text-align: right;\n",
              "    }\n",
              "</style>\n",
              "<table border=\"1\" class=\"dataframe\">\n",
              "  <thead>\n",
              "    <tr style=\"text-align: right;\">\n",
              "      <th></th>\n",
              "      <th>id</th>\n",
              "      <th>comment_text</th>\n",
              "      <th>toxic</th>\n",
              "      <th>severe_toxic</th>\n",
              "      <th>obscene</th>\n",
              "      <th>threat</th>\n",
              "      <th>insult</th>\n",
              "      <th>identity_hate</th>\n",
              "      <th>clean</th>\n",
              "    </tr>\n",
              "  </thead>\n",
              "  <tbody>\n",
              "    <tr>\n",
              "      <th>0</th>\n",
              "      <td>0000997932d777bf</td>\n",
              "      <td>explanation edits made username hardcore metal...</td>\n",
              "      <td>0</td>\n",
              "      <td>0</td>\n",
              "      <td>0</td>\n",
              "      <td>0</td>\n",
              "      <td>0</td>\n",
              "      <td>0</td>\n",
              "      <td>True</td>\n",
              "    </tr>\n",
              "    <tr>\n",
              "      <th>1</th>\n",
              "      <td>000103f0d9cfb60f</td>\n",
              "      <td>aww matches background colour seemingly stuck ...</td>\n",
              "      <td>0</td>\n",
              "      <td>0</td>\n",
              "      <td>0</td>\n",
              "      <td>0</td>\n",
              "      <td>0</td>\n",
              "      <td>0</td>\n",
              "      <td>True</td>\n",
              "    </tr>\n",
              "    <tr>\n",
              "      <th>2</th>\n",
              "      <td>000113f07ec002fd</td>\n",
              "      <td>hey man really trying edit war guy constantly ...</td>\n",
              "      <td>0</td>\n",
              "      <td>0</td>\n",
              "      <td>0</td>\n",
              "      <td>0</td>\n",
              "      <td>0</td>\n",
              "      <td>0</td>\n",
              "      <td>True</td>\n",
              "    </tr>\n",
              "    <tr>\n",
              "      <th>3</th>\n",
              "      <td>0001b41b1c6bb37e</td>\n",
              "      <td>make real suggestions improvement wondered sec...</td>\n",
              "      <td>0</td>\n",
              "      <td>0</td>\n",
              "      <td>0</td>\n",
              "      <td>0</td>\n",
              "      <td>0</td>\n",
              "      <td>0</td>\n",
              "      <td>True</td>\n",
              "    </tr>\n",
              "    <tr>\n",
              "      <th>4</th>\n",
              "      <td>0001d958c54c6e35</td>\n",
              "      <td>sir hero chance remember page</td>\n",
              "      <td>0</td>\n",
              "      <td>0</td>\n",
              "      <td>0</td>\n",
              "      <td>0</td>\n",
              "      <td>0</td>\n",
              "      <td>0</td>\n",
              "      <td>True</td>\n",
              "    </tr>\n",
              "    <tr>\n",
              "      <th>5</th>\n",
              "      <td>00025465d4725e87</td>\n",
              "      <td>congratulations well use tools well talk</td>\n",
              "      <td>0</td>\n",
              "      <td>0</td>\n",
              "      <td>0</td>\n",
              "      <td>0</td>\n",
              "      <td>0</td>\n",
              "      <td>0</td>\n",
              "      <td>True</td>\n",
              "    </tr>\n",
              "    <tr>\n",
              "      <th>6</th>\n",
              "      <td>0002bcb3da6cb337</td>\n",
              "      <td>cocksucker piss around work</td>\n",
              "      <td>1</td>\n",
              "      <td>1</td>\n",
              "      <td>1</td>\n",
              "      <td>0</td>\n",
              "      <td>1</td>\n",
              "      <td>0</td>\n",
              "      <td>False</td>\n",
              "    </tr>\n",
              "    <tr>\n",
              "      <th>7</th>\n",
              "      <td>00031b1e95af7921</td>\n",
              "      <td>vandalism matt shirvington article reverted pl...</td>\n",
              "      <td>0</td>\n",
              "      <td>0</td>\n",
              "      <td>0</td>\n",
              "      <td>0</td>\n",
              "      <td>0</td>\n",
              "      <td>0</td>\n",
              "      <td>True</td>\n",
              "    </tr>\n",
              "    <tr>\n",
              "      <th>8</th>\n",
              "      <td>00037261f536c51d</td>\n",
              "      <td>sorry word nonsense offensive anyway intending...</td>\n",
              "      <td>0</td>\n",
              "      <td>0</td>\n",
              "      <td>0</td>\n",
              "      <td>0</td>\n",
              "      <td>0</td>\n",
              "      <td>0</td>\n",
              "      <td>True</td>\n",
              "    </tr>\n",
              "    <tr>\n",
              "      <th>9</th>\n",
              "      <td>00040093b2687caa</td>\n",
              "      <td>alignment subject contrary dulithgow</td>\n",
              "      <td>0</td>\n",
              "      <td>0</td>\n",
              "      <td>0</td>\n",
              "      <td>0</td>\n",
              "      <td>0</td>\n",
              "      <td>0</td>\n",
              "      <td>True</td>\n",
              "    </tr>\n",
              "  </tbody>\n",
              "</table>\n",
              "</div>"
            ],
            "text/plain": [
              "                 id  ...  clean\n",
              "0  0000997932d777bf  ...   True\n",
              "1  000103f0d9cfb60f  ...   True\n",
              "2  000113f07ec002fd  ...   True\n",
              "3  0001b41b1c6bb37e  ...   True\n",
              "4  0001d958c54c6e35  ...   True\n",
              "5  00025465d4725e87  ...   True\n",
              "6  0002bcb3da6cb337  ...  False\n",
              "7  00031b1e95af7921  ...   True\n",
              "8  00037261f536c51d  ...   True\n",
              "9  00040093b2687caa  ...   True\n",
              "\n",
              "[10 rows x 9 columns]"
            ]
          },
          "metadata": {
            "tags": []
          },
          "execution_count": 10
        }
      ]
    },
    {
      "cell_type": "code",
      "metadata": {
        "id": "HU374dUSJF7T",
        "colab_type": "code",
        "outputId": "d0b03aa0-b681-486b-de5c-5e8a668f8274",
        "colab": {
          "base_uri": "https://localhost:8080/",
          "height": 33
        }
      },
      "source": [
        "X=train['comment_text']\n",
        "test_X=test['comment_text']\n",
        "print(X.shape, test_X.shape)"
      ],
      "execution_count": 11,
      "outputs": [
        {
          "output_type": "stream",
          "text": [
            "(159571,) (153164,)\n"
          ],
          "name": "stdout"
        }
      ]
    },
    {
      "cell_type": "markdown",
      "metadata": {
        "id": "6kirrKI6TJ9e",
        "colab_type": "text"
      },
      "source": [
        "###TF-IDF Vectorizer\n",
        "* TF -> Term Frequency\n",
        "* IDF -> Inverse Document Frequency\n",
        "* Use of TF-IDF vectorizer to make matrix of features more storng and correlated.\n",
        "* Basically it penilizes the word according to its frecuency in Sentence as well as its frequency in document.\n",
        "* Use n_gram range of 1 and Max Features to 10000 to reduce complexity and time for compilatiom.\n"
      ]
    },
    {
      "cell_type": "code",
      "metadata": {
        "id": "GfhromiZJfgo",
        "colab_type": "code",
        "outputId": "2371098a-ba0b-483b-fca9-aa4f9ba078c2",
        "colab": {
          "base_uri": "https://localhost:8080/",
          "height": 133
        }
      },
      "source": [
        "from sklearn.feature_extraction.text import CountVectorizer\n",
        "from sklearn.feature_extraction.text import TfidfVectorizer\n",
        "vect = TfidfVectorizer(max_features=10000)\n",
        "vect"
      ],
      "execution_count": 12,
      "outputs": [
        {
          "output_type": "execute_result",
          "data": {
            "text/plain": [
              "TfidfVectorizer(analyzer='word', binary=False, decode_error='strict',\n",
              "                dtype=<class 'numpy.float64'>, encoding='utf-8',\n",
              "                input='content', lowercase=True, max_df=1.0, max_features=10000,\n",
              "                min_df=1, ngram_range=(1, 1), norm='l2', preprocessor=None,\n",
              "                smooth_idf=True, stop_words=None, strip_accents=None,\n",
              "                sublinear_tf=False, token_pattern='(?u)\\\\b\\\\w\\\\w+\\\\b',\n",
              "                tokenizer=None, use_idf=True, vocabulary=None)"
            ]
          },
          "metadata": {
            "tags": []
          },
          "execution_count": 12
        }
      ]
    },
    {
      "cell_type": "markdown",
      "metadata": {
        "id": "yRPUdrk7UfCH",
        "colab_type": "text"
      },
      "source": [
        "###Creating Matrix of Features"
      ]
    },
    {
      "cell_type": "code",
      "metadata": {
        "id": "VLgC5caxMYTu",
        "colab_type": "code",
        "outputId": "ec6bc85f-7c95-422f-fa6e-dc1b323a816d",
        "colab": {
          "base_uri": "https://localhost:8080/",
          "height": 50
        }
      },
      "source": [
        "X_dtm=vect.fit_transform(X)\n",
        "test_X_dtm=vect.transform(test_X)\n",
        "X_dtm\n",
        "test_X_dtm"
      ],
      "execution_count": 13,
      "outputs": [
        {
          "output_type": "execute_result",
          "data": {
            "text/plain": [
              "<153164x10000 sparse matrix of type '<class 'numpy.float64'>'\n",
              "\twith 3229479 stored elements in Compressed Sparse Row format>"
            ]
          },
          "metadata": {
            "tags": []
          },
          "execution_count": 13
        }
      ]
    },
    {
      "cell_type": "code",
      "metadata": {
        "id": "62i9fNK7M2PU",
        "colab_type": "code",
        "colab": {}
      },
      "source": [
        "cols_target = ['obscene','insult','toxic','severe_toxic','identity_hate','threat']"
      ],
      "execution_count": 0,
      "outputs": []
    },
    {
      "cell_type": "markdown",
      "metadata": {
        "id": "yZrHMtrLUu7D",
        "colab_type": "text"
      },
      "source": [
        "###Fit it into Logistic Regression Model\n",
        "Train my model on Logistic regression for each label and predict the labels of each sentence and stored in sample submission file."
      ]
    },
    {
      "cell_type": "code",
      "metadata": {
        "id": "BhPjEsePNFuB",
        "colab_type": "code",
        "outputId": "623b226d-42fa-4134-8611-19dad9e556a0",
        "colab": {
          "base_uri": "https://localhost:8080/",
          "height": 216
        }
      },
      "source": [
        "from sklearn.linear_model import LogisticRegression\n",
        "from sklearn.metrics import accuracy_score\n",
        "lg = LogisticRegression(max_iter=200)\n",
        "for label in cols_target:\n",
        "    print('... Processing {}'.format(label))\n",
        "    y = train[label]\n",
        "    # train the model using x_features & y\n",
        "    lg.fit(X_dtm, y)\n",
        "    # compute the training accuracy\n",
        "    y_pred_X = lg.predict(X_dtm)\n",
        "    print('Training accuracy is {}'.format(accuracy_score(y, y_pred_X)))\n",
        "    # compute the predicted probabilities for X_test_dtm\n",
        "    test_y_prob = lg.predict_proba(test_X_dtm)[:,1]\n",
        "    sample_submission[label] = test_y_prob\n"
      ],
      "execution_count": 15,
      "outputs": [
        {
          "output_type": "stream",
          "text": [
            "... Processing obscene\n",
            "Training accuracy is 0.9801342349173722\n",
            "... Processing insult\n",
            "Training accuracy is 0.9734099554430317\n",
            "... Processing toxic\n",
            "Training accuracy is 0.961559431224972\n",
            "... Processing severe_toxic\n",
            "Training accuracy is 0.9909570034655419\n",
            "... Processing identity_hate\n",
            "Training accuracy is 0.9926365066334109\n",
            "... Processing threat\n",
            "Training accuracy is 0.9972802075565109\n"
          ],
          "name": "stdout"
        }
      ]
    },
    {
      "cell_type": "code",
      "metadata": {
        "id": "Hjb84fsHN8oU",
        "colab_type": "code",
        "outputId": "4dc5421e-e5c9-4ae4-ed29-ab84abf472f8",
        "colab": {
          "base_uri": "https://localhost:8080/",
          "height": 347
        }
      },
      "source": [
        "sample_submission.head(10)"
      ],
      "execution_count": 16,
      "outputs": [
        {
          "output_type": "execute_result",
          "data": {
            "text/html": [
              "<div>\n",
              "<style scoped>\n",
              "    .dataframe tbody tr th:only-of-type {\n",
              "        vertical-align: middle;\n",
              "    }\n",
              "\n",
              "    .dataframe tbody tr th {\n",
              "        vertical-align: top;\n",
              "    }\n",
              "\n",
              "    .dataframe thead th {\n",
              "        text-align: right;\n",
              "    }\n",
              "</style>\n",
              "<table border=\"1\" class=\"dataframe\">\n",
              "  <thead>\n",
              "    <tr style=\"text-align: right;\">\n",
              "      <th></th>\n",
              "      <th>id</th>\n",
              "      <th>toxic</th>\n",
              "      <th>severe_toxic</th>\n",
              "      <th>obscene</th>\n",
              "      <th>threat</th>\n",
              "      <th>insult</th>\n",
              "      <th>identity_hate</th>\n",
              "    </tr>\n",
              "  </thead>\n",
              "  <tbody>\n",
              "    <tr>\n",
              "      <th>0</th>\n",
              "      <td>00001cee341fdb12</td>\n",
              "      <td>0.997998</td>\n",
              "      <td>0.189017</td>\n",
              "      <td>0.995582</td>\n",
              "      <td>0.030830</td>\n",
              "      <td>0.930438</td>\n",
              "      <td>0.264599</td>\n",
              "    </tr>\n",
              "    <tr>\n",
              "      <th>1</th>\n",
              "      <td>0000247867823ef7</td>\n",
              "      <td>0.010179</td>\n",
              "      <td>0.003211</td>\n",
              "      <td>0.005405</td>\n",
              "      <td>0.001794</td>\n",
              "      <td>0.008164</td>\n",
              "      <td>0.003535</td>\n",
              "    </tr>\n",
              "    <tr>\n",
              "      <th>2</th>\n",
              "      <td>00013b17ad220c46</td>\n",
              "      <td>0.015085</td>\n",
              "      <td>0.001640</td>\n",
              "      <td>0.005506</td>\n",
              "      <td>0.000830</td>\n",
              "      <td>0.009273</td>\n",
              "      <td>0.002496</td>\n",
              "    </tr>\n",
              "    <tr>\n",
              "      <th>3</th>\n",
              "      <td>00017563c3f7919a</td>\n",
              "      <td>0.004947</td>\n",
              "      <td>0.002751</td>\n",
              "      <td>0.004358</td>\n",
              "      <td>0.001194</td>\n",
              "      <td>0.004178</td>\n",
              "      <td>0.001105</td>\n",
              "    </tr>\n",
              "    <tr>\n",
              "      <th>4</th>\n",
              "      <td>00017695ad8997eb</td>\n",
              "      <td>0.028637</td>\n",
              "      <td>0.002832</td>\n",
              "      <td>0.008100</td>\n",
              "      <td>0.001476</td>\n",
              "      <td>0.010657</td>\n",
              "      <td>0.003148</td>\n",
              "    </tr>\n",
              "    <tr>\n",
              "      <th>5</th>\n",
              "      <td>0001ea8717f6de06</td>\n",
              "      <td>0.008561</td>\n",
              "      <td>0.001090</td>\n",
              "      <td>0.003848</td>\n",
              "      <td>0.000746</td>\n",
              "      <td>0.006427</td>\n",
              "      <td>0.001451</td>\n",
              "    </tr>\n",
              "    <tr>\n",
              "      <th>6</th>\n",
              "      <td>00024115d4cbde0f</td>\n",
              "      <td>0.003490</td>\n",
              "      <td>0.000546</td>\n",
              "      <td>0.003421</td>\n",
              "      <td>0.000405</td>\n",
              "      <td>0.003370</td>\n",
              "      <td>0.000899</td>\n",
              "    </tr>\n",
              "    <tr>\n",
              "      <th>7</th>\n",
              "      <td>000247e83dcc1211</td>\n",
              "      <td>0.526263</td>\n",
              "      <td>0.003507</td>\n",
              "      <td>0.059220</td>\n",
              "      <td>0.003388</td>\n",
              "      <td>0.112772</td>\n",
              "      <td>0.005038</td>\n",
              "    </tr>\n",
              "    <tr>\n",
              "      <th>8</th>\n",
              "      <td>00025358d4737918</td>\n",
              "      <td>0.026795</td>\n",
              "      <td>0.003554</td>\n",
              "      <td>0.013688</td>\n",
              "      <td>0.002550</td>\n",
              "      <td>0.011982</td>\n",
              "      <td>0.004580</td>\n",
              "    </tr>\n",
              "    <tr>\n",
              "      <th>9</th>\n",
              "      <td>00026d1092fe71cc</td>\n",
              "      <td>0.008461</td>\n",
              "      <td>0.001324</td>\n",
              "      <td>0.006204</td>\n",
              "      <td>0.001123</td>\n",
              "      <td>0.008794</td>\n",
              "      <td>0.002080</td>\n",
              "    </tr>\n",
              "  </tbody>\n",
              "</table>\n",
              "</div>"
            ],
            "text/plain": [
              "                 id     toxic  severe_toxic  ...    threat    insult  identity_hate\n",
              "0  00001cee341fdb12  0.997998      0.189017  ...  0.030830  0.930438       0.264599\n",
              "1  0000247867823ef7  0.010179      0.003211  ...  0.001794  0.008164       0.003535\n",
              "2  00013b17ad220c46  0.015085      0.001640  ...  0.000830  0.009273       0.002496\n",
              "3  00017563c3f7919a  0.004947      0.002751  ...  0.001194  0.004178       0.001105\n",
              "4  00017695ad8997eb  0.028637      0.002832  ...  0.001476  0.010657       0.003148\n",
              "5  0001ea8717f6de06  0.008561      0.001090  ...  0.000746  0.006427       0.001451\n",
              "6  00024115d4cbde0f  0.003490      0.000546  ...  0.000405  0.003370       0.000899\n",
              "7  000247e83dcc1211  0.526263      0.003507  ...  0.003388  0.112772       0.005038\n",
              "8  00025358d4737918  0.026795      0.003554  ...  0.002550  0.011982       0.004580\n",
              "9  00026d1092fe71cc  0.008461      0.001324  ...  0.001123  0.008794       0.002080\n",
              "\n",
              "[10 rows x 7 columns]"
            ]
          },
          "metadata": {
            "tags": []
          },
          "execution_count": 16
        }
      ]
    },
    {
      "cell_type": "code",
      "metadata": {
        "id": "5JYCyQZQ_o2A",
        "colab_type": "code",
        "colab": {}
      },
      "source": [
        "sample_submission.to_csv('submit1.csv')"
      ],
      "execution_count": 0,
      "outputs": []
    },
    {
      "cell_type": "code",
      "metadata": {
        "id": "i-nXg44fFDSt",
        "colab_type": "code",
        "colab": {}
      },
      "source": [
        "sample_submission1 =pd.read_csv('/content/drive/My Drive/Toxic Comment Dataset/sample_submission.csv')"
      ],
      "execution_count": 0,
      "outputs": []
    },
    {
      "cell_type": "markdown",
      "metadata": {
        "id": "GgfFyftXVz2r",
        "colab_type": "text"
      },
      "source": [
        "###Fit the model into Naive Bayes Classifier\n",
        "As Naive Bayes classifier works very well in NLP.\n",
        "In TF-IDF we consider all words to be independent and also don't consider the relative order of words in predicting our answer to reduce the complexicity of model.and in Naive Bayes also we assume that every feature is independent of the others, in order to predict the category of a given sample.  "
      ]
    },
    {
      "cell_type": "code",
      "metadata": {
        "id": "tY-fd0GQAbp1",
        "colab_type": "code",
        "outputId": "7e56b116-ebe1-4648-9b45-54fb77640f15",
        "colab": {
          "base_uri": "https://localhost:8080/",
          "height": 216
        }
      },
      "source": [
        "from sklearn.naive_bayes import MultinomialNB \n",
        "from sklearn.metrics import accuracy_score\n",
        "mnb = MultinomialNB()\n",
        "for label in cols_target:\n",
        "    print('... Processing {}'.format(label))\n",
        "    y = train[label]\n",
        "    # train the model using x_features & y\n",
        "    mnb.fit(X_dtm, y)\n",
        "    # compute the training accuracy\n",
        "    y_pred_X = mnb.predict(X_dtm)\n",
        "    print('Training accuracy is {}'.format(accuracy_score(y, y_pred_X)))\n",
        "    # compute the predicted probabilities for X_test_dtm\n",
        "    test_y_prob = mnb.predict_proba(test_X_dtm)[:,1]\n",
        "    sample_submission1[label] = test_y_prob\n"
      ],
      "execution_count": 19,
      "outputs": [
        {
          "output_type": "stream",
          "text": [
            "... Processing obscene\n",
            "Training accuracy is 0.9744001102957305\n",
            "... Processing insult\n",
            "Training accuracy is 0.9699005458385296\n",
            "... Processing toxic\n",
            "Training accuracy is 0.9528736424538293\n",
            "... Processing severe_toxic\n",
            "Training accuracy is 0.9906937977452043\n",
            "... Processing identity_hate\n",
            "Training accuracy is 0.9916275513721164\n",
            "... Processing threat\n",
            "Training accuracy is 0.9969856678218473\n"
          ],
          "name": "stdout"
        }
      ]
    },
    {
      "cell_type": "code",
      "metadata": {
        "id": "EzHZ_1oAD7rY",
        "colab_type": "code",
        "outputId": "e9c6dcc1-462d-4d06-9764-a338b0e4d06b",
        "colab": {
          "base_uri": "https://localhost:8080/",
          "height": 197
        }
      },
      "source": [
        "sample_submission1.head()"
      ],
      "execution_count": 20,
      "outputs": [
        {
          "output_type": "execute_result",
          "data": {
            "text/html": [
              "<div>\n",
              "<style scoped>\n",
              "    .dataframe tbody tr th:only-of-type {\n",
              "        vertical-align: middle;\n",
              "    }\n",
              "\n",
              "    .dataframe tbody tr th {\n",
              "        vertical-align: top;\n",
              "    }\n",
              "\n",
              "    .dataframe thead th {\n",
              "        text-align: right;\n",
              "    }\n",
              "</style>\n",
              "<table border=\"1\" class=\"dataframe\">\n",
              "  <thead>\n",
              "    <tr style=\"text-align: right;\">\n",
              "      <th></th>\n",
              "      <th>id</th>\n",
              "      <th>toxic</th>\n",
              "      <th>severe_toxic</th>\n",
              "      <th>obscene</th>\n",
              "      <th>threat</th>\n",
              "      <th>insult</th>\n",
              "      <th>identity_hate</th>\n",
              "    </tr>\n",
              "  </thead>\n",
              "  <tbody>\n",
              "    <tr>\n",
              "      <th>0</th>\n",
              "      <td>00001cee341fdb12</td>\n",
              "      <td>0.996056</td>\n",
              "      <td>0.212723</td>\n",
              "      <td>0.987146</td>\n",
              "      <td>0.005882</td>\n",
              "      <td>0.965938</td>\n",
              "      <td>0.180809</td>\n",
              "    </tr>\n",
              "    <tr>\n",
              "      <th>1</th>\n",
              "      <td>0000247867823ef7</td>\n",
              "      <td>0.014682</td>\n",
              "      <td>0.001131</td>\n",
              "      <td>0.006591</td>\n",
              "      <td>0.000426</td>\n",
              "      <td>0.006195</td>\n",
              "      <td>0.001245</td>\n",
              "    </tr>\n",
              "    <tr>\n",
              "      <th>2</th>\n",
              "      <td>00013b17ad220c46</td>\n",
              "      <td>0.025237</td>\n",
              "      <td>0.000634</td>\n",
              "      <td>0.010027</td>\n",
              "      <td>0.000157</td>\n",
              "      <td>0.009518</td>\n",
              "      <td>0.000934</td>\n",
              "    </tr>\n",
              "    <tr>\n",
              "      <th>3</th>\n",
              "      <td>00017563c3f7919a</td>\n",
              "      <td>0.007084</td>\n",
              "      <td>0.000134</td>\n",
              "      <td>0.002639</td>\n",
              "      <td>0.000019</td>\n",
              "      <td>0.002418</td>\n",
              "      <td>0.000083</td>\n",
              "    </tr>\n",
              "    <tr>\n",
              "      <th>4</th>\n",
              "      <td>00017695ad8997eb</td>\n",
              "      <td>0.039592</td>\n",
              "      <td>0.005247</td>\n",
              "      <td>0.026726</td>\n",
              "      <td>0.001410</td>\n",
              "      <td>0.025099</td>\n",
              "      <td>0.004573</td>\n",
              "    </tr>\n",
              "  </tbody>\n",
              "</table>\n",
              "</div>"
            ],
            "text/plain": [
              "                 id     toxic  severe_toxic  ...    threat    insult  identity_hate\n",
              "0  00001cee341fdb12  0.996056      0.212723  ...  0.005882  0.965938       0.180809\n",
              "1  0000247867823ef7  0.014682      0.001131  ...  0.000426  0.006195       0.001245\n",
              "2  00013b17ad220c46  0.025237      0.000634  ...  0.000157  0.009518       0.000934\n",
              "3  00017563c3f7919a  0.007084      0.000134  ...  0.000019  0.002418       0.000083\n",
              "4  00017695ad8997eb  0.039592      0.005247  ...  0.001410  0.025099       0.004573\n",
              "\n",
              "[5 rows x 7 columns]"
            ]
          },
          "metadata": {
            "tags": []
          },
          "execution_count": 20
        }
      ]
    },
    {
      "cell_type": "code",
      "metadata": {
        "id": "H6vH2UuXGPCl",
        "colab_type": "code",
        "colab": {}
      },
      "source": [
        "sample_submission1.to_csv('submit2.csv')"
      ],
      "execution_count": 0,
      "outputs": []
    },
    {
      "cell_type": "markdown",
      "metadata": {
        "id": "XFvmgwyQXQBO",
        "colab_type": "text"
      },
      "source": [
        "###Final Result\n",
        "Now to Increase our accuracy we take the average of predictions of our Logistic Regression and Naive Bayes Classifires. "
      ]
    },
    {
      "cell_type": "code",
      "metadata": {
        "id": "xUA0mE03HXra",
        "colab_type": "code",
        "colab": {}
      },
      "source": [
        "submission_combined = pd.read_csv('/content/drive/My Drive/Toxic Comment Dataset/sample_submission.csv')\n",
        "for label in cols_target:\n",
        "    submission_combined[label] = 0.5*(sample_submission[label]+sample_submission1[label])"
      ],
      "execution_count": 0,
      "outputs": []
    },
    {
      "cell_type": "code",
      "metadata": {
        "id": "SdM34ngQ6qWZ",
        "colab_type": "code",
        "outputId": "472a1ff6-38ea-4d7b-c779-d57f1ffd5cc8",
        "colab": {
          "base_uri": "https://localhost:8080/",
          "height": 197
        }
      },
      "source": [
        "submission_combined.head()"
      ],
      "execution_count": 23,
      "outputs": [
        {
          "output_type": "execute_result",
          "data": {
            "text/html": [
              "<div>\n",
              "<style scoped>\n",
              "    .dataframe tbody tr th:only-of-type {\n",
              "        vertical-align: middle;\n",
              "    }\n",
              "\n",
              "    .dataframe tbody tr th {\n",
              "        vertical-align: top;\n",
              "    }\n",
              "\n",
              "    .dataframe thead th {\n",
              "        text-align: right;\n",
              "    }\n",
              "</style>\n",
              "<table border=\"1\" class=\"dataframe\">\n",
              "  <thead>\n",
              "    <tr style=\"text-align: right;\">\n",
              "      <th></th>\n",
              "      <th>id</th>\n",
              "      <th>toxic</th>\n",
              "      <th>severe_toxic</th>\n",
              "      <th>obscene</th>\n",
              "      <th>threat</th>\n",
              "      <th>insult</th>\n",
              "      <th>identity_hate</th>\n",
              "    </tr>\n",
              "  </thead>\n",
              "  <tbody>\n",
              "    <tr>\n",
              "      <th>0</th>\n",
              "      <td>00001cee341fdb12</td>\n",
              "      <td>0.997027</td>\n",
              "      <td>0.200870</td>\n",
              "      <td>0.991364</td>\n",
              "      <td>0.018356</td>\n",
              "      <td>0.948188</td>\n",
              "      <td>0.222704</td>\n",
              "    </tr>\n",
              "    <tr>\n",
              "      <th>1</th>\n",
              "      <td>0000247867823ef7</td>\n",
              "      <td>0.012431</td>\n",
              "      <td>0.002171</td>\n",
              "      <td>0.005998</td>\n",
              "      <td>0.001110</td>\n",
              "      <td>0.007179</td>\n",
              "      <td>0.002390</td>\n",
              "    </tr>\n",
              "    <tr>\n",
              "      <th>2</th>\n",
              "      <td>00013b17ad220c46</td>\n",
              "      <td>0.020161</td>\n",
              "      <td>0.001137</td>\n",
              "      <td>0.007767</td>\n",
              "      <td>0.000494</td>\n",
              "      <td>0.009396</td>\n",
              "      <td>0.001715</td>\n",
              "    </tr>\n",
              "    <tr>\n",
              "      <th>3</th>\n",
              "      <td>00017563c3f7919a</td>\n",
              "      <td>0.006015</td>\n",
              "      <td>0.001443</td>\n",
              "      <td>0.003498</td>\n",
              "      <td>0.000607</td>\n",
              "      <td>0.003298</td>\n",
              "      <td>0.000594</td>\n",
              "    </tr>\n",
              "    <tr>\n",
              "      <th>4</th>\n",
              "      <td>00017695ad8997eb</td>\n",
              "      <td>0.034114</td>\n",
              "      <td>0.004040</td>\n",
              "      <td>0.017413</td>\n",
              "      <td>0.001443</td>\n",
              "      <td>0.017878</td>\n",
              "      <td>0.003860</td>\n",
              "    </tr>\n",
              "  </tbody>\n",
              "</table>\n",
              "</div>"
            ],
            "text/plain": [
              "                 id     toxic  severe_toxic  ...    threat    insult  identity_hate\n",
              "0  00001cee341fdb12  0.997027      0.200870  ...  0.018356  0.948188       0.222704\n",
              "1  0000247867823ef7  0.012431      0.002171  ...  0.001110  0.007179       0.002390\n",
              "2  00013b17ad220c46  0.020161      0.001137  ...  0.000494  0.009396       0.001715\n",
              "3  00017563c3f7919a  0.006015      0.001443  ...  0.000607  0.003298       0.000594\n",
              "4  00017695ad8997eb  0.034114      0.004040  ...  0.001443  0.017878       0.003860\n",
              "\n",
              "[5 rows x 7 columns]"
            ]
          },
          "metadata": {
            "tags": []
          },
          "execution_count": 23
        }
      ]
    },
    {
      "cell_type": "code",
      "metadata": {
        "id": "9nUa-DUF6s4D",
        "colab_type": "code",
        "colab": {}
      },
      "source": [
        "submission_combined.to_csv('submission_combined.csv', index=False)"
      ],
      "execution_count": 0,
      "outputs": []
    }
  ]
}